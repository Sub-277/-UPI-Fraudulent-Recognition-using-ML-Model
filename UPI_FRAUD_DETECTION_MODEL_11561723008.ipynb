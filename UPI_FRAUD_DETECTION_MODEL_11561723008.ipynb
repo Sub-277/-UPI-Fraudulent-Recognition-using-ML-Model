{
 "cells": [
  {
   "cell_type": "code",
   "execution_count": 1,
   "id": "b69fb471",
   "metadata": {},
   "outputs": [],
   "source": [
    "import pandas as pd\n",
    "import numpy as np\n",
    "import matplotlib.pyplot as plt\n",
    "from sklearn.model_selection import train_test_split\n",
    "from sklearn.preprocessing import StandardScaler\n",
    "from sklearn.metrics import accuracy_score"
   ]
  },
  {
   "cell_type": "code",
   "execution_count": 2,
   "id": "1a745a22",
   "metadata": {},
   "outputs": [],
   "source": [
    "dataset = pd.read_csv('fraud_detection_dataset.csv')"
   ]
  },
  {
   "cell_type": "code",
   "execution_count": 3,
   "id": "04e09d94",
   "metadata": {
    "scrolled": false
   },
   "outputs": [
    {
     "data": {
      "text/html": [
       "<div>\n",
       "<style scoped>\n",
       "    .dataframe tbody tr th:only-of-type {\n",
       "        vertical-align: middle;\n",
       "    }\n",
       "\n",
       "    .dataframe tbody tr th {\n",
       "        vertical-align: top;\n",
       "    }\n",
       "\n",
       "    .dataframe thead th {\n",
       "        text-align: right;\n",
       "    }\n",
       "</style>\n",
       "<table border=\"1\" class=\"dataframe\">\n",
       "  <thead>\n",
       "    <tr style=\"text-align: right;\">\n",
       "      <th></th>\n",
       "      <th>id</th>\n",
       "      <th>trans_hour</th>\n",
       "      <th>trans_day</th>\n",
       "      <th>trans_month</th>\n",
       "      <th>trans_year</th>\n",
       "      <th>category</th>\n",
       "      <th>upi_number</th>\n",
       "      <th>age</th>\n",
       "      <th>trans_amount</th>\n",
       "      <th>state</th>\n",
       "      <th>fraud_risk</th>\n",
       "    </tr>\n",
       "  </thead>\n",
       "  <tbody>\n",
       "    <tr>\n",
       "      <th>0</th>\n",
       "      <td>0</td>\n",
       "      <td>6</td>\n",
       "      <td>26</td>\n",
       "      <td>1</td>\n",
       "      <td>2022</td>\n",
       "      <td>10</td>\n",
       "      <td>9957000271</td>\n",
       "      <td>32</td>\n",
       "      <td>3096.74</td>\n",
       "      <td>5</td>\n",
       "      <td>1.0</td>\n",
       "    </tr>\n",
       "    <tr>\n",
       "      <th>1</th>\n",
       "      <td>1</td>\n",
       "      <td>19</td>\n",
       "      <td>8</td>\n",
       "      <td>1</td>\n",
       "      <td>2022</td>\n",
       "      <td>9</td>\n",
       "      <td>9957000387</td>\n",
       "      <td>63</td>\n",
       "      <td>1556.14</td>\n",
       "      <td>28</td>\n",
       "      <td>0.0</td>\n",
       "    </tr>\n",
       "    <tr>\n",
       "      <th>2</th>\n",
       "      <td>2</td>\n",
       "      <td>14</td>\n",
       "      <td>4</td>\n",
       "      <td>4</td>\n",
       "      <td>2022</td>\n",
       "      <td>20</td>\n",
       "      <td>9957000093</td>\n",
       "      <td>32</td>\n",
       "      <td>438.11</td>\n",
       "      <td>19</td>\n",
       "      <td>1.0</td>\n",
       "    </tr>\n",
       "    <tr>\n",
       "      <th>3</th>\n",
       "      <td>3</td>\n",
       "      <td>10</td>\n",
       "      <td>16</td>\n",
       "      <td>3</td>\n",
       "      <td>2022</td>\n",
       "      <td>8</td>\n",
       "      <td>9957000966</td>\n",
       "      <td>21</td>\n",
       "      <td>463.77</td>\n",
       "      <td>21</td>\n",
       "      <td>1.0</td>\n",
       "    </tr>\n",
       "    <tr>\n",
       "      <th>4</th>\n",
       "      <td>4</td>\n",
       "      <td>7</td>\n",
       "      <td>30</td>\n",
       "      <td>10</td>\n",
       "      <td>2022</td>\n",
       "      <td>10</td>\n",
       "      <td>9957000529</td>\n",
       "      <td>18</td>\n",
       "      <td>4616.89</td>\n",
       "      <td>24</td>\n",
       "      <td>1.0</td>\n",
       "    </tr>\n",
       "  </tbody>\n",
       "</table>\n",
       "</div>"
      ],
      "text/plain": [
       "   id  trans_hour  trans_day  trans_month  trans_year  category  upi_number  \\\n",
       "0   0           6         26            1        2022        10  9957000271   \n",
       "1   1          19          8            1        2022         9  9957000387   \n",
       "2   2          14          4            4        2022        20  9957000093   \n",
       "3   3          10         16            3        2022         8  9957000966   \n",
       "4   4           7         30           10        2022        10  9957000529   \n",
       "\n",
       "   age  trans_amount  state  fraud_risk  \n",
       "0   32       3096.74      5         1.0  \n",
       "1   63       1556.14     28         0.0  \n",
       "2   32        438.11     19         1.0  \n",
       "3   21        463.77     21         1.0  \n",
       "4   18       4616.89     24         1.0  "
      ]
     },
     "execution_count": 3,
     "metadata": {},
     "output_type": "execute_result"
    }
   ],
   "source": [
    "dataset.head()"
   ]
  },
  {
   "cell_type": "code",
   "execution_count": 4,
   "id": "cf53eb23",
   "metadata": {},
   "outputs": [
    {
     "data": {
      "text/plain": [
       "(2000, 11)"
      ]
     },
     "execution_count": 4,
     "metadata": {},
     "output_type": "execute_result"
    }
   ],
   "source": [
    "dataset.shape"
   ]
  },
  {
   "cell_type": "code",
   "execution_count": 5,
   "id": "2b593d69",
   "metadata": {},
   "outputs": [],
   "source": [
    "x = dataset.iloc[:, :10].values\n",
    "y = dataset.iloc[:, 10].values"
   ]
  },
  {
   "cell_type": "code",
   "execution_count": 6,
   "id": "e91590e9",
   "metadata": {},
   "outputs": [],
   "source": [
    "from sklearn.model_selection import train_test_split"
   ]
  },
  {
   "cell_type": "code",
   "execution_count": 7,
   "id": "9c7f846d",
   "metadata": {},
   "outputs": [],
   "source": [
    "x_train, x_test, y_train, y_test = train_test_split(x, y, test_size = 0.2, random_state = 2)"
   ]
  },
  {
   "cell_type": "code",
   "execution_count": 8,
   "id": "11f2304c",
   "metadata": {},
   "outputs": [
    {
     "data": {
      "text/plain": [
       "(1600, 10)"
      ]
     },
     "execution_count": 8,
     "metadata": {},
     "output_type": "execute_result"
    }
   ],
   "source": [
    "x_train.shape"
   ]
  },
  {
   "cell_type": "code",
   "execution_count": 9,
   "id": "1769e68b",
   "metadata": {},
   "outputs": [
    {
     "data": {
      "text/plain": [
       "(400, 10)"
      ]
     },
     "execution_count": 9,
     "metadata": {},
     "output_type": "execute_result"
    }
   ],
   "source": [
    "x_test.shape"
   ]
  },
  {
   "cell_type": "code",
   "execution_count": 10,
   "id": "c6ec9777",
   "metadata": {},
   "outputs": [],
   "source": [
    "fraud = np.count_nonzero(y_train == 1)\n",
    "valid = np.count_nonzero(y_train == 0)"
   ]
  },
  {
   "cell_type": "code",
   "execution_count": 11,
   "id": "730a3e52",
   "metadata": {},
   "outputs": [
    {
     "name": "stdout",
     "output_type": "stream",
     "text": [
      "Fraud cases in training data:  1314\n",
      "Valid cases in training data:  286\n"
     ]
    }
   ],
   "source": [
    "print(\"Fraud cases in training data: \", fraud)\n",
    "print(\"Valid cases in training data: \", valid)"
   ]
  },
  {
   "cell_type": "code",
   "execution_count": 12,
   "id": "b2e79368",
   "metadata": {},
   "outputs": [],
   "source": [
    "from sklearn.preprocessing import StandardScaler\n",
    "scaler = StandardScaler()"
   ]
  },
  {
   "cell_type": "code",
   "execution_count": 13,
   "id": "5bdabb56",
   "metadata": {},
   "outputs": [],
   "source": [
    "x_train = scaler.fit_transform(x_train)\n",
    "x_test = scaler.transform(x_test)"
   ]
  },
  {
   "cell_type": "markdown",
   "id": "ca6272e4",
   "metadata": {},
   "source": [
    "# LR"
   ]
  },
  {
   "cell_type": "code",
   "execution_count": 14,
   "id": "3233e6ab",
   "metadata": {
    "scrolled": true
   },
   "outputs": [
    {
     "name": "stdout",
     "output_type": "stream",
     "text": [
      "0.84\n"
     ]
    }
   ],
   "source": [
    "from sklearn.linear_model import LogisticRegression\n",
    "LR_model = LogisticRegression(random_state = 2)\n",
    "LR_model.fit(x_train, y_train)\n",
    "y_pred = LR_model.predict(x_test)\n",
    "acc_lr = accuracy_score(y_test,y_pred)\n",
    "print(acc_lr)"
   ]
  },
  {
   "cell_type": "markdown",
   "id": "bf9c0c79",
   "metadata": {},
   "source": [
    "# KNN"
   ]
  },
  {
   "cell_type": "code",
   "execution_count": 15,
   "id": "9b67a524",
   "metadata": {},
   "outputs": [
    {
     "name": "stdout",
     "output_type": "stream",
     "text": [
      "0.82\n"
     ]
    }
   ],
   "source": [
    "from sklearn.neighbors import KNeighborsClassifier\n",
    "KNN_model = KNeighborsClassifier(n_neighbors = 5)\n",
    "KNN_model.fit(x_train, y_train)\n",
    "y_pred = KNN_model.predict(x_test)\n",
    "acc_knn = accuracy_score(y_test,y_pred)\n",
    "print(acc_knn)"
   ]
  },
  {
   "cell_type": "markdown",
   "id": "780b5189",
   "metadata": {},
   "source": [
    "# SVM"
   ]
  },
  {
   "cell_type": "code",
   "execution_count": 16,
   "id": "956b385c",
   "metadata": {},
   "outputs": [
    {
     "name": "stdout",
     "output_type": "stream",
     "text": [
      "0.84\n"
     ]
    }
   ],
   "source": [
    "from sklearn.svm import SVC\n",
    "SVM_model = SVC(kernel = 'linear')\n",
    "SVM_model.fit(x_train, y_train)\n",
    "y_pred = SVM_model.predict(x_test)\n",
    "acc_svm = accuracy_score(y_test,y_pred)\n",
    "print(acc_svm)"
   ]
  },
  {
   "cell_type": "code",
   "execution_count": 17,
   "id": "abd976ff",
   "metadata": {},
   "outputs": [
    {
     "name": "stdout",
     "output_type": "stream",
     "text": [
      "0.84\n"
     ]
    }
   ],
   "source": [
    "SVM_model = SVC(gamma = 0.001)\n",
    "SVM_model.fit(x_train, y_train)\n",
    "y_pred = SVM_model.predict(x_test)\n",
    "acc_svm = accuracy_score(y_test,y_pred)\n",
    "print(acc_svm)"
   ]
  },
  {
   "cell_type": "code",
   "execution_count": 18,
   "id": "5deb0a3e",
   "metadata": {},
   "outputs": [
    {
     "name": "stdout",
     "output_type": "stream",
     "text": [
      "0.8375\n"
     ]
    }
   ],
   "source": [
    "SVM_model = SVC(C=5)\n",
    "SVM_model.fit(x_train, y_train)\n",
    "y_pred = SVM_model.predict(x_test)\n",
    "acc_svm = accuracy_score(y_test,y_pred)\n",
    "print(acc_svm)"
   ]
  },
  {
   "cell_type": "code",
   "execution_count": 19,
   "id": "f0aecbb6",
   "metadata": {},
   "outputs": [
    {
     "name": "stdout",
     "output_type": "stream",
     "text": [
      "0.84\n"
     ]
    }
   ],
   "source": [
    "SVM_model = SVC(kernel='rbf')\n",
    "SVM_model.fit(x_train, y_train)\n",
    "y_pred = SVM_model.predict(x_test)\n",
    "acc_svm = accuracy_score(y_test,y_pred)\n",
    "print(acc_svm)"
   ]
  },
  {
   "cell_type": "markdown",
   "id": "3e067537",
   "metadata": {},
   "source": [
    "# NB"
   ]
  },
  {
   "cell_type": "code",
   "execution_count": 20,
   "id": "b7dc4526",
   "metadata": {},
   "outputs": [
    {
     "name": "stdout",
     "output_type": "stream",
     "text": [
      "0.84\n"
     ]
    }
   ],
   "source": [
    "from sklearn.naive_bayes import GaussianNB\n",
    "NB_model = GaussianNB()\n",
    "NB_model.fit(x_train, y_train)\n",
    "y_pred = NB_model.predict(x_test)\n",
    "acc_nb = accuracy_score(y_test,y_pred)\n",
    "print(acc_nb)"
   ]
  },
  {
   "cell_type": "markdown",
   "id": "32477ece",
   "metadata": {},
   "source": [
    "# DT"
   ]
  },
  {
   "cell_type": "code",
   "execution_count": 21,
   "id": "084d30dd",
   "metadata": {},
   "outputs": [
    {
     "name": "stdout",
     "output_type": "stream",
     "text": [
      "0.6725\n"
     ]
    }
   ],
   "source": [
    "from sklearn.tree import DecisionTreeClassifier\n",
    "DT_model = DecisionTreeClassifier (criterion = 'entropy')\n",
    "DT_model.fit(x_train, y_train)\n",
    "y_pred = DT_model.predict(x_test)\n",
    "acc_dt = accuracy_score(y_test,y_pred)\n",
    "print(acc_dt)"
   ]
  },
  {
   "cell_type": "markdown",
   "id": "20624407",
   "metadata": {},
   "source": [
    "# RANDOM FOREST (RF)"
   ]
  },
  {
   "cell_type": "code",
   "execution_count": 22,
   "id": "fa6e3172",
   "metadata": {},
   "outputs": [
    {
     "name": "stdout",
     "output_type": "stream",
     "text": [
      "0.8375\n"
     ]
    }
   ],
   "source": [
    "from sklearn.ensemble import RandomForestClassifier\n",
    "RF_model = RandomForestClassifier()\n",
    "RF_model.fit(x_train, y_train)\n",
    "y_pred = RF_model.predict(x_test)\n",
    "acc_rf = accuracy_score(y_test,y_pred)\n",
    "print(acc_rf)"
   ]
  },
  {
   "cell_type": "markdown",
   "id": "1c60c4d2",
   "metadata": {},
   "source": [
    "# ACCURACY COMPARSION"
   ]
  },
  {
   "cell_type": "code",
   "execution_count": 23,
   "id": "2cb51bd0",
   "metadata": {},
   "outputs": [],
   "source": [
    "scores = [\n",
    "    acc_lr * 100,\n",
    "    acc_knn * 100,\n",
    "    acc_svm * 100,\n",
    "    acc_nb * 100,\n",
    "    acc_dt * 100,\n",
    "    acc_rf * 100,\n",
    "]"
   ]
  },
  {
   "cell_type": "code",
   "execution_count": 24,
   "id": "4c5601cf",
   "metadata": {},
   "outputs": [],
   "source": [
    "names = [\"Logistic Regression\",\n",
    "\"K-Nearest Neighbors\",\n",
    "\"Support Vector Machine\",\n",
    "\"Naive Bayes\",\n",
    "\"Decision Tree\",\n",
    "\"Random Forest\"]"
   ]
  },
  {
   "cell_type": "code",
   "execution_count": 25,
   "id": "b0e058f3",
   "metadata": {},
   "outputs": [],
   "source": [
    "df = pd.DataFrame()\n",
    "df['Algorithm Name'] = names\n",
    "df ['Accuracy Score (%)'] = scores\n",
    "df = df. sort_values('Accuracy Score (%)', ascending = False)"
   ]
  },
  {
   "cell_type": "code",
   "execution_count": 26,
   "id": "57f665ea",
   "metadata": {},
   "outputs": [
    {
     "data": {
      "text/html": [
       "<div>\n",
       "<style scoped>\n",
       "    .dataframe tbody tr th:only-of-type {\n",
       "        vertical-align: middle;\n",
       "    }\n",
       "\n",
       "    .dataframe tbody tr th {\n",
       "        vertical-align: top;\n",
       "    }\n",
       "\n",
       "    .dataframe thead th {\n",
       "        text-align: right;\n",
       "    }\n",
       "</style>\n",
       "<table border=\"1\" class=\"dataframe\">\n",
       "  <thead>\n",
       "    <tr style=\"text-align: right;\">\n",
       "      <th></th>\n",
       "      <th>Algorithm Name</th>\n",
       "      <th>Accuracy Score (%)</th>\n",
       "    </tr>\n",
       "  </thead>\n",
       "  <tbody>\n",
       "    <tr>\n",
       "      <th>0</th>\n",
       "      <td>Logistic Regression</td>\n",
       "      <td>84.00</td>\n",
       "    </tr>\n",
       "    <tr>\n",
       "      <th>2</th>\n",
       "      <td>Support Vector Machine</td>\n",
       "      <td>84.00</td>\n",
       "    </tr>\n",
       "    <tr>\n",
       "      <th>3</th>\n",
       "      <td>Naive Bayes</td>\n",
       "      <td>84.00</td>\n",
       "    </tr>\n",
       "    <tr>\n",
       "      <th>5</th>\n",
       "      <td>Random Forest</td>\n",
       "      <td>83.75</td>\n",
       "    </tr>\n",
       "    <tr>\n",
       "      <th>1</th>\n",
       "      <td>K-Nearest Neighbors</td>\n",
       "      <td>82.00</td>\n",
       "    </tr>\n",
       "    <tr>\n",
       "      <th>4</th>\n",
       "      <td>Decision Tree</td>\n",
       "      <td>67.25</td>\n",
       "    </tr>\n",
       "  </tbody>\n",
       "</table>\n",
       "</div>"
      ],
      "text/plain": [
       "           Algorithm Name  Accuracy Score (%)\n",
       "0     Logistic Regression               84.00\n",
       "2  Support Vector Machine               84.00\n",
       "3             Naive Bayes               84.00\n",
       "5           Random Forest               83.75\n",
       "1     K-Nearest Neighbors               82.00\n",
       "4           Decision Tree               67.25"
      ]
     },
     "execution_count": 26,
     "metadata": {},
     "output_type": "execute_result"
    }
   ],
   "source": [
    "df"
   ]
  },
  {
   "cell_type": "code",
   "execution_count": 27,
   "id": "dc72b2db",
   "metadata": {},
   "outputs": [
    {
     "data": {
      "image/png": "[encoded data removed]",
      "text/plain": [
       "<Figure size 1000x600 with 1 Axes>"
      ]
     },
     "metadata": {},
     "output_type": "display_data"
    }
   ],
   "source": [
    "plt.figure(figsize=(10, 6))\n",
    "plt.bar(df['Algorithm Name'], df['Accuracy Score (%)'], color='blue')\n",
    "plt.xlabel('Algorithm Name')\n",
    "plt.ylabel('Accuracy Score (%)')\n",
    "plt.title('Accuracy Scores of Different Algorithms')\n",
    "plt.xticks(rotation=45, ha='right')  # Rotate x-axis labels for better readability\n",
    "plt.tight_layout()  # Adjust layout to prevent clipping of labels\n",
    "plt.show()"
   ]
  },
  {
   "cell_type": "code",
   "execution_count": null,
   "id": "4524228b",
   "metadata": {},
   "outputs": [],
   "source": []
  }
 ],
 "metadata": {
  "kernelspec": {
   "display_name": "Python 3 (ipykernel)",
   "language": "python",
   "name": "python3"
  },
  "language_info": {
   "codemirror_mode": {
    "name": "ipython",
    "version": 3
   },
   "file_extension": ".py",
   "mimetype": "text/x-python",
   "name": "python",
   "nbconvert_exporter": "python",
   "pygments_lexer": "ipython3",
   "version": "3.11.4"
  }
 },
 "nbformat": 4,
 "nbformat_minor": 5
}
